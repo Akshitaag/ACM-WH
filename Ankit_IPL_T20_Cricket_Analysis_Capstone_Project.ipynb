{
  "nbformat": 4,
  "nbformat_minor": 0,
  "metadata": {
    "kernelspec": {
      "display_name": "Python 3",
      "language": "python",
      "name": "python3"
    },
    "language_info": {
      "codemirror_mode": {
        "name": "ipython",
        "version": 3
      },
      "file_extension": ".py",
      "mimetype": "text/x-python",
      "name": "python",
      "nbconvert_exporter": "python",
      "pygments_lexer": "ipython3",
      "version": "3.6.6"
    },
    "colab": {
      "name": "Ankit IPL T20 Cricket Analysis - Capstone Project.ipynb",
      "provenance": [],
      "collapsed_sections": [],
      "include_colab_link": true
    }
  },
  "cells": [
    {
      "cell_type": "markdown",
      "metadata": {
        "id": "view-in-github",
        "colab_type": "text"
      },
      "source": [
        "<a href=\"https://colab.research.google.com/github/ankit986/ACM-WH/blob/master/Ankit_IPL_T20_Cricket_Analysis_Capstone_Project.ipynb\" target=\"_parent\"><img src=\"https://colab.research.google.com/assets/colab-badge.svg\" alt=\"Open In Colab\"/></a>"
      ]
    },
    {
      "cell_type": "markdown",
      "metadata": {
        "id": "Y06xIdG26kRF"
      },
      "source": [
        "## <b> Indian Premier League(IPL) is a professional Twenty20 cricket league in India contested during March or April and May of every year by eight teams representing eight different cities in India. The league was founded by the Board of Control for Cricket in India(BCCI) in 2008. </b>\n",
        "\n",
        "## <b> Explore and analyze the data to discover results and statistics for different teams playing in IPL. </b>"
      ]
    },
    {
      "cell_type": "code",
      "metadata": {
        "colab": {
          "base_uri": "https://localhost:8080/"
        },
        "id": "haFc67yrjITm",
        "outputId": "0772dfc4-b38a-4fbd-d1b0-dea0544bf9d4"
      },
      "source": [
        "!pip install geopandas"
      ],
      "execution_count": null,
      "outputs": [
        {
          "output_type": "stream",
          "text": [
            "Collecting geopandas\n",
            "\u001b[?25l  Downloading https://files.pythonhosted.org/packages/d7/bf/e9cefb69d39155d122b6ddca53893b61535fa6ffdad70bf5ef708977f53f/geopandas-0.9.0-py2.py3-none-any.whl (994kB)\n",
            "\u001b[K     |████████████████████████████████| 1.0MB 5.1MB/s \n",
            "\u001b[?25hCollecting pyproj>=2.2.0\n",
            "\u001b[?25l  Downloading https://files.pythonhosted.org/packages/b1/72/d52e9ca81caef056062d71991b0e9b1d16af042245627c5d0e4916a36c4f/pyproj-3.0.1-cp37-cp37m-manylinux2010_x86_64.whl (6.5MB)\n",
            "\u001b[K     |████████████████████████████████| 6.5MB 18.0MB/s \n",
            "\u001b[?25hRequirement already satisfied: shapely>=1.6 in /usr/local/lib/python3.7/dist-packages (from geopandas) (1.7.1)\n",
            "Collecting fiona>=1.8\n",
            "\u001b[?25l  Downloading https://files.pythonhosted.org/packages/ea/2a/404b22883298a3efe9c6ef8d67acbf2c38443fa366ee9cd4cd34e17626ea/Fiona-1.8.19-cp37-cp37m-manylinux1_x86_64.whl (15.3MB)\n",
            "\u001b[K     |████████████████████████████████| 15.3MB 200kB/s \n",
            "\u001b[?25hRequirement already satisfied: pandas>=0.24.0 in /usr/local/lib/python3.7/dist-packages (from geopandas) (1.1.5)\n",
            "Requirement already satisfied: certifi in /usr/local/lib/python3.7/dist-packages (from pyproj>=2.2.0->geopandas) (2020.12.5)\n",
            "Requirement already satisfied: attrs>=17 in /usr/local/lib/python3.7/dist-packages (from fiona>=1.8->geopandas) (21.2.0)\n",
            "Collecting cligj>=0.5\n",
            "  Downloading https://files.pythonhosted.org/packages/42/1e/947eadf10d6804bf276eb8a038bd5307996dceaaa41cfd21b7a15ec62f5d/cligj-0.7.1-py3-none-any.whl\n",
            "Requirement already satisfied: six>=1.7 in /usr/local/lib/python3.7/dist-packages (from fiona>=1.8->geopandas) (1.15.0)\n",
            "Requirement already satisfied: click<8,>=4.0 in /usr/local/lib/python3.7/dist-packages (from fiona>=1.8->geopandas) (7.1.2)\n",
            "Collecting munch\n",
            "  Downloading https://files.pythonhosted.org/packages/cc/ab/85d8da5c9a45e072301beb37ad7f833cd344e04c817d97e0cc75681d248f/munch-2.5.0-py2.py3-none-any.whl\n",
            "Collecting click-plugins>=1.0\n",
            "  Downloading https://files.pythonhosted.org/packages/e9/da/824b92d9942f4e472702488857914bdd50f73021efea15b4cad9aca8ecef/click_plugins-1.1.1-py2.py3-none-any.whl\n",
            "Requirement already satisfied: numpy>=1.15.4 in /usr/local/lib/python3.7/dist-packages (from pandas>=0.24.0->geopandas) (1.19.5)\n",
            "Requirement already satisfied: pytz>=2017.2 in /usr/local/lib/python3.7/dist-packages (from pandas>=0.24.0->geopandas) (2018.9)\n",
            "Requirement already satisfied: python-dateutil>=2.7.3 in /usr/local/lib/python3.7/dist-packages (from pandas>=0.24.0->geopandas) (2.8.1)\n",
            "Installing collected packages: pyproj, cligj, munch, click-plugins, fiona, geopandas\n",
            "Successfully installed click-plugins-1.1.1 cligj-0.7.1 fiona-1.8.19 geopandas-0.9.0 munch-2.5.0 pyproj-3.0.1\n"
          ],
          "name": "stdout"
        }
      ]
    },
    {
      "cell_type": "code",
      "metadata": {
        "id": "sok6J749LBha"
      },
      "source": [
        "import numpy as np\n",
        "import pandas as pd\n",
        "import seaborn as sns\n",
        "import matplotlib.pyplot as plt\n",
        "import geopandas as gpd\n",
        "import plotly.express as px"
      ],
      "execution_count": null,
      "outputs": []
    },
    {
      "cell_type": "code",
      "metadata": {
        "id": "GGw9wo_lLM53"
      },
      "source": [
        "from google.colab import drive\n",
        "drive.mount('/content/drive')"
      ],
      "execution_count": null,
      "outputs": []
    },
    {
      "cell_type": "code",
      "metadata": {
        "id": "n86atVberw-j"
      },
      "source": [
        "folder_path = '/content/drive/MyDrive/AlmaBetter/Capstone Projects/EDA/IPL/data'"
      ],
      "execution_count": null,
      "outputs": []
    },
    {
      "cell_type": "code",
      "metadata": {
        "id": "R9gSRHy5lTBz"
      },
      "source": [
        "fp = f\"/content/drive/MyDrive/AlmaBetter/Capstone Projects/EDA/IPL/igismap/Indian_States.shp\"\n",
        "map_df = gpd.read_file(fp)"
      ],
      "execution_count": null,
      "outputs": []
    },
    {
      "cell_type": "code",
      "metadata": {
        "id": "dByMsuzT8Tnw"
      },
      "source": [
        "players_df = pd.read_excel(folder_path+'/Players.xlsx')\n",
        "deliveries_df = pd.read_csv(folder_path+'/deliveries.csv')\n",
        "matches_df = pd.read_csv(folder_path+'/matches.csv')\n",
        "most_runs_avg_sr_df = pd.read_csv(folder_path+'/most_runs_average_strikerate.csv')\n",
        "teams_df = pd.read_csv(folder_path+'/teams.csv')\n",
        "teamwise_home_and_away_df = pd.read_csv(folder_path+'/teamwise_home_and_away.csv')"
      ],
      "execution_count": null,
      "outputs": []
    },
    {
      "cell_type": "code",
      "metadata": {
        "id": "NOrBJAMWLEWp"
      },
      "source": [
        "players_df.head()"
      ],
      "execution_count": null,
      "outputs": []
    },
    {
      "cell_type": "code",
      "metadata": {
        "id": "zzaWNscwngIv"
      },
      "source": [
        "deliveries_df.head()"
      ],
      "execution_count": null,
      "outputs": []
    },
    {
      "cell_type": "code",
      "metadata": {
        "id": "VdZ5CiunoYK9"
      },
      "source": [
        "deliveries_df.shape"
      ],
      "execution_count": null,
      "outputs": []
    },
    {
      "cell_type": "code",
      "metadata": {
        "id": "BL24hW8UnjA_"
      },
      "source": [
        "matches_df.head()"
      ],
      "execution_count": null,
      "outputs": []
    },
    {
      "cell_type": "code",
      "metadata": {
        "id": "6IbrkJypnoXG"
      },
      "source": [
        "most_runs_avg_sr_df"
      ],
      "execution_count": null,
      "outputs": []
    },
    {
      "cell_type": "code",
      "metadata": {
        "id": "x332-cWknq82"
      },
      "source": [
        "teams_df"
      ],
      "execution_count": null,
      "outputs": []
    },
    {
      "cell_type": "code",
      "metadata": {
        "id": "vZ3NHT78nvUF"
      },
      "source": [
        "teamwise_home_and_away_df.head()"
      ],
      "execution_count": null,
      "outputs": []
    },
    {
      "cell_type": "code",
      "metadata": {
        "id": "p0l-vHB4fY8B"
      },
      "source": [
        "old_team_name_new_name_dict = {'Deccan Chargers' :'Sunrisers Hyderabad', 'Pune Warriors': 'Rising Pune Supergiant', 'Rising Pune Supergiants':'Rising Pune Supergiant','Delhi Daredevils':'Delhi Capitals'}\n",
        "\n",
        "old_stad_new_stad_dict = {\n",
        "    'M Chinnaswamy Stadium':'M. Chinnaswamy Stadium', \n",
        "    'IS Bindra Stadium':'Punjab Cricket Association IS Bindra Stadium',\n",
        "    'Punjab Cricket Association Stadium, Mohali':'Punjab Cricket Association IS Bindra Stadium', \n",
        "    'Punjab Cricket Association IS Bindra Stadium, Mohali':'Punjab Cricket Association IS Bindra Stadium', \n",
        "    'Rajiv Gandhi Intl. Cricket Stadium':'Rajiv Gandhi International Stadium, Uppal', \n",
        "    'Feroz Shah Kotla':'Feroz Shah Kotla Ground',\n",
        "    'Subrata Roy Sahara Stadium':'Maharashtra Cricket Association Stadium',\n",
        "    'ACA-VDCA Stadium':'Dr. Y.S. Rajasekhara Reddy ACA-VDCA Cricket Stadium',\n",
        "    'MA Chidambaram Stadium, Chepauk':'M. A. Chidambaram Stadium'\n",
        "  }\n",
        "\n",
        "\n",
        "old_city_new_city_dict = {\n",
        "    'Bengaluru':'Bangalore',\n",
        "    'Mohali':'Chandigarh'\n",
        "  }\n",
        "\n",
        "\n",
        "def change_name(team_name, old_name_new_name_dict):\n",
        "    if team_name in old_name_new_name_dict.keys():\n",
        "        return old_name_new_name_dict[team_name]\n",
        "    return team_name\n",
        "\n",
        "for column in ['batting_team','bowling_team']: \n",
        "  deliveries_df[column] = deliveries_df[column].apply(lambda x: change_name(x, old_team_name_new_name_dict))\n",
        "\n",
        "teamwise_home_and_away_df['team'] = teamwise_home_and_away_df['team'].apply(lambda x: change_name(x, old_team_name_new_name_dict))\n",
        "\n",
        "for column in ['team1','team2','toss_winner','winner']: \n",
        "  matches_df[column] = matches_df[column].apply(lambda x: change_name(x, old_team_name_new_name_dict))\n",
        "\n",
        "teams_df['team1'] = teams_df.team1.apply(lambda x: change_name(x, old_team_name_new_name_dict)).drop_duplicates()\n",
        "teams_df.dropna(inplace=True)\n",
        "teams_df.reset_index(inplace=True)\n",
        "teams_df.drop(columns='index', inplace=True)\n",
        "\n",
        "matches_df['venue'] = matches_df['venue'].apply(lambda x: change_name(x, old_stad_new_stad_dict))\n",
        "matches_df['city'] = matches_df['city'].apply(lambda x: change_name(x, old_city_new_city_dict))\n",
        "\n"
      ],
      "execution_count": null,
      "outputs": []
    },
    {
      "cell_type": "code",
      "metadata": {
        "id": "bMctEkOOfjwT"
      },
      "source": [
        "players_df.fillna(value='NA', inplace=True)\n",
        "\n",
        "x = matches_df['Season'][0]\n",
        "ls = []\n",
        "i=0\n",
        "for season in matches_df['Season']:\n",
        "  if x == season:\n",
        "    i+=1\n",
        "    ls.append(i)\n",
        "  else:\n",
        "    x=season\n",
        "    i=1\n",
        "    ls.append(i)\n",
        "    \n",
        "matches_df = pd.concat([matches_df,pd.DataFrame({'match_number':ls})],axis=1)"
      ],
      "execution_count": null,
      "outputs": []
    },
    {
      "cell_type": "code",
      "metadata": {
        "id": "2BnvziZkfmSy"
      },
      "source": [
        "drop_index_for_matches_df = matches_df[matches_df.winner.isna()].index\n",
        "matches_df.drop(index=drop_index_for_matches_df, inplace=True)\n",
        "\n",
        "drop_match_id_for_deliveries_df = matches_df.iloc[matches_df[matches_df.winner.isna()].index].id.values\n",
        "for m_id in drop_match_id_for_deliveries_df:\n",
        "    drop_index_for_deliveries_df = deliveries_df[deliveries_df.match_id == m_id].index \n",
        "    deliveries_df.drop(index=drop_index_for_deliveries_df, inplace =True)\n",
        "print('matches_df Shape: ',matches_df.shape)\n",
        "print('deliveries_df Shape: ',deliveries_df.shape)"
      ],
      "execution_count": null,
      "outputs": []
    },
    {
      "cell_type": "markdown",
      "metadata": {
        "id": "3JJ5wR3Nq6oV"
      },
      "source": [
        "Creating Score Card \n"
      ]
    },
    {
      "cell_type": "code",
      "metadata": {
        "id": "5DX-ZvFbf8Ui"
      },
      "source": [
        "def get_match_deliveries(match_id):\n",
        "  return deliveries_df[deliveries_df['match_id'] == match_id]\n",
        "\n",
        "\n",
        "def create_inning_scorecard(batsman_run_ball_dict, bowler_detail_dict):\n",
        "  bowler_list = []\n",
        "  batsman_list = []\n",
        " \n",
        "  for batsman in batsman_run_ball_dict :\n",
        "\n",
        "    batsman_dict = batsman_run_ball_dict[batsman]\n",
        "    temp_dict = {'batsman': batsman, 'runs': batsman_dict['run'], 'ball':batsman_dict['bowls_played'], 'strike_rate': batsman_dict['strike_rate']}\n",
        "    batsman_list.append(temp_dict)\n",
        "\n",
        "  \n",
        "  for bowler in bowler_detail_dict :\n",
        " \n",
        "    bowler_dict = bowler_detail_dict[bowler]\n",
        "    temp_dict = {'bowler': bowler, 'over':bowler_dict['overs'],'runs': bowler_dict['runs_given'], 'wickets':len(bowler_dict['wicket_took']), 'economy': bowler_dict['eco']}\n",
        "    bowler_list.append(temp_dict)\n",
        "\n",
        "\n",
        "\n",
        "  final_batsman_df = pd.DataFrame(batsman_list)\n",
        "  final_bowler_df = pd.DataFrame(bowler_list)\n",
        "\n",
        "  return final_batsman_df, final_bowler_df\n",
        "\n",
        "\n",
        "def get_overs_stats(inning):\n",
        "    temp_df = copy.deepcopy(inning)\n",
        "    temp_df['player_dismissed'] = temp_df['player_dismissed'].apply(lambda x: 1 if x == x else 0)\n",
        "    over_runs_wickets = temp_df.groupby('over', as_index = False).agg({'total_runs':'sum','player_dismissed':'sum'})\n",
        "    \n",
        "    runs = 0\n",
        "    new_col = []\n",
        "    for index, row in over_runs_wickets.iterrows():\n",
        "        new_col.append(runs + row['total_runs'])\n",
        "        runs = new_col[-1]\n",
        "    over_runs_wickets['score'] = pd.Series(new_col)\n",
        "\n",
        "    return over_runs_wickets\n",
        "\n",
        "\n",
        "\n",
        "def get_batsman_bowler_details(inning):\n",
        "  batsman_run_ball_dict = {}\n",
        "  bowler_detail_dict = {}\n",
        "  wickets_fall = 0\n",
        "  extra_balls = 0\n",
        "  overs_stats = get_overs_stats(inning[['over','total_runs','player_dismissed']])\n",
        "\n",
        "  for index, row in inning.iterrows():\n",
        "      \n",
        "      batsman = row['batsman']\n",
        "      run = row['batsman_runs']\n",
        "      total_runs = row['total_runs']\n",
        "\n",
        "      bowler = row['bowler']\n",
        "      wicket = row['player_dismissed']\n",
        "      wicket_kind = row['dismissal_kind']\n",
        "\n",
        "      if row.wide_runs!= 0 or row.noball_runs!=0:\n",
        "          extra_balls += 1\n",
        "\n",
        "      if batsman in batsman_run_ball_dict:\n",
        "        batsman_run_ball_dict[batsman]['run'] += run\n",
        "        batsman_run_ball_dict[batsman]['bowls_played'] += 1     \n",
        "      else:\n",
        "        batsman_run_ball_dict[batsman] = {'run':run, 'bowls_played':1}\n",
        "    \n",
        "\n",
        "      if bowler in bowler_detail_dict:\n",
        "        bowler_detail_dict[bowler]['bowls_bowled'] += 1\n",
        "        bowler_detail_dict[bowler]['runs_given'] += total_runs\n",
        "      else:\n",
        "        bowler_detail_dict[bowler] = {'runs_given':total_runs, 'bowls_bowled':1, 'wicket_took':[]}\n",
        "\n",
        "      if wicket == wicket and wicket_kind not in ['run out', 'retired hurt','obstructing the field']:\n",
        "        bowler_detail_dict[bowler]['wicket_took'].append(wicket)\n",
        "        wickets_fall += 1\n",
        "      elif wicket_kind in ['run out', 'retired hurt', 'obstructing the field']:\n",
        "        wickets_fall += 1\n",
        "\n",
        "  for batsman in batsman_run_ball_dict:\n",
        "    batsman_dict = batsman_run_ball_dict[batsman]\n",
        "    strike_rate = int(batsman_dict['run'])/int(batsman_dict['bowls_played'])*100\n",
        "    batsman_dict['strike_rate'] = round(strike_rate,2)\n",
        "\n",
        "\n",
        "  for bowler in bowler_detail_dict:\n",
        "    bowler_dict = bowler_detail_dict[bowler]\n",
        "    eco = bowler_dict['runs_given']*6/bowler_dict['bowls_bowled']\n",
        "    bowler_dict['eco'] = round(eco,2)\n",
        "\n",
        "    overs = str(bowler_dict['bowls_bowled']//6)+'.'+str(bowler_dict['bowls_bowled']%6)\n",
        "    bowler_dict['overs'] = overs\n",
        "\n",
        "  return create_inning_scorecard(batsman_run_ball_dict, bowler_detail_dict), wickets_fall, overs_stats, extra_balls\n",
        "\n",
        "\n",
        "\n",
        "def get_scorecard(match_id):\n",
        "    delivery_df = deliveries_df[deliveries_df['match_id'] == match_id]\n",
        "    inning_one_df = delivery_df[delivery_df['inning']==1]\n",
        "    inning_two_df = delivery_df[delivery_df['inning']==2]\n",
        "    inn_1, inn_2 = {}, {}\n",
        "\n",
        "    inn_1['scorecard'], wickets_1, overs_stats_1, extra_balls = get_batsman_bowler_details(inning_one_df)\n",
        "    temp_list = (str(inn_1['scorecard'][1]['over'].astype('float').sum())).split('.')\n",
        "    print('temp_list:',temp_list)\n",
        "    print('temp_list:',extra_balls)\n",
        "    temp = (int(temp_list[0])*6 + int(temp_list[1])) - extra_balls\n",
        "    temp = temp//6 + (temp%6)*0.1\n",
        "    inn_1['overs'] = round(temp,1)\n",
        "    inn_1['runs'] = inn_1['scorecard'][1]['runs'].sum()\n",
        "\n",
        "    inn_2['scorecard'], wickets_2, overs_stats_2, extra_balls = get_batsman_bowler_details(inning_two_df)\n",
        "    temp_list = (str(inn_2['scorecard'][1]['over'].astype('float').sum())).split('.')\n",
        "    temp = (int(temp_list[0])*6 + int(temp_list[1])) - extra_balls\n",
        "    temp = temp//6 + (temp%6)*0.1\n",
        "    inn_2['overs'] =  round(temp,1)\n",
        "    inn_2['runs'] = inn_2['scorecard'][1]['runs'].sum()\n",
        "\n",
        "\n",
        "    return inn_1, wickets_1, inn_2, wickets_2, overs_stats_1, overs_stats_2\n",
        "\n",
        "\n",
        "\n",
        "def scorecard(inning):\n",
        "    global inn_1, wickets_1, inn_2, wickets_2, overs_stats_1, overs_stats_2, team1, team2\n",
        "\n",
        "    team1, team2 = matches_df[matches_df.id==match_id]['team1'].values[0], matches_df[matches_df.id==match_id]['team2'].values[0]\n",
        "\n",
        "    inn_1, wickets_1, inn_2, wickets_2, overs_stats_1, overs_stats_2 = get_scorecard(match_id)\n",
        "\n",
        "    if inning==1:\n",
        "        print('\\033[1m***********'*4,'\\n\\t\\t Inning: 1\\n'+'***********'*4)\n",
        "        print(f'{team1}\\n'+'***********'*4)\n",
        "        print('| Score: '+str(inn_1['runs'])+'/'+str(wickets_1),'| Target: '+str(inn_1['runs']+1)+' | Overs:',inn_1['overs'],'|') \n",
        "        print('\\n\\033[1mScorecard: ')\n",
        "        return pd.concat([inn_1['scorecard'][0], inn_1['scorecard'][1]], axis=1).fillna(' ')\n",
        "\n",
        "    elif inning==2:\n",
        "        print('\\033[1m***********'*4,'\\n\\t\\tInning: 2\\n'+'***********'*4)\n",
        "        print(f'{team2}\\n'+'***********'*4)\n",
        "        print('| Score: '+str(inn_2['runs'])+'/'+str(wickets_2),'| Target: '+str(inn_1['runs']+1)+' | Overs:',inn_2['overs'],'|')\n",
        "        print('\\n\\033[1mScorecard: ')\n",
        "        return pd.concat([inn_2['scorecard'][0], inn_2['scorecard'][1]], axis=1).fillna(' ')\n",
        "    else:\n",
        "        return None\n"
      ],
      "execution_count": null,
      "outputs": []
    },
    {
      "cell_type": "code",
      "metadata": {
        "id": "cg2yvNNQrhwC"
      },
      "source": [
        "def get_match_deliveries(match_id):\n",
        "  return deliveries_df[deliveries_df['match_id'] == match_id]"
      ],
      "execution_count": null,
      "outputs": []
    },
    {
      "cell_type": "code",
      "metadata": {
        "id": "6EtsqSli8Lhb"
      },
      "source": [
        "def create_inning_scorecard(batsman_run_ball_dict, bowler_detail_dict):\n",
        "  # print(batsman_run_ball_dict)\n",
        "  # print(bowler_detail_dict)\n",
        "\n",
        "  # sorted_batsman_list = sorted([[value['run'], key, value['bowls_played']]\n",
        "  # for (key, value) in batsman_run_ball_dict.items()], reverse=True)\n",
        "\n",
        "  # sorted_bowler_list = sorted([[len(value['wicket_took']), key, value['runs_given'], f\"{value['bowls_bowled']//6}.{value['bowls_bowled']%6}\"]\n",
        "  # for (key, value) in bowler_detail_dict.items()], reverse=True)\n",
        "\n",
        "  bowler_list = []\n",
        "  batsman_list = []\n",
        " \n",
        "  for batsman in batsman_run_ball_dict :\n",
        "\n",
        "    batsman_dict = batsman_run_ball_dict[batsman]\n",
        "    temp_dict = {'batsman': batsman, 'runs': batsman_dict['run'], 'ball':batsman_dict['bowls_played'], 'strike_rate': batsman_dict['strike_rate']}\n",
        "    batsman_list.append(temp_dict)\n",
        "\n",
        "  \n",
        "  for bowler in bowler_detail_dict :\n",
        " \n",
        "    bowler_dict = bowler_detail_dict[bowler]\n",
        "    temp_dict = {'bowler': bowler, 'over':bowler_dict['overs'],'runs': bowler_dict['runs_given'], 'wickets':len(bowler_dict['wicket_took']), 'economy': bowler_dict['eco']}\n",
        "    bowler_list.append(temp_dict)\n",
        "\n",
        "\n",
        "\n",
        "  final_batsman_df = pd.DataFrame(batsman_list)\n",
        "  final_bowler_df = pd.DataFrame(bowler_list)\n",
        "\n",
        "  return final_batsman_df, final_bowler_df\n"
      ],
      "execution_count": null,
      "outputs": []
    },
    {
      "cell_type": "code",
      "metadata": {
        "id": "QnSSmaizkHiH"
      },
      "source": [
        "deliveries_df[deliveries_df.match_id == 56].head(1)"
      ],
      "execution_count": null,
      "outputs": []
    },
    {
      "cell_type": "code",
      "metadata": {
        "id": "n_lFWPTblRw8"
      },
      "source": [
        "import copy\n",
        "def get_overs_stats(inning):\n",
        "    temp_df = copy.deepcopy(inning)\n",
        "    temp_df['player_dismissed'] = temp_df['player_dismissed'].apply(lambda x: 1 if x == x else 0)\n",
        "    over_runs_wickets = temp_df.groupby('over', as_index = False).agg({'total_runs':'sum','player_dismissed':'sum'})\n",
        "    \n",
        "    runs = 0\n",
        "    new_col = []\n",
        "    for index, row in over_runs_wickets.iterrows():\n",
        "        new_col.append(runs + row['total_runs'])\n",
        "        runs = new_col[-1]\n",
        "    over_runs_wickets['score'] = pd.Series(new_col)\n",
        "\n",
        "  #over_runs_wickets['wickets'] = temp_df.groupby('over')['player_dismissed'].sum()\n",
        "    return over_runs_wickets"
      ],
      "execution_count": null,
      "outputs": []
    },
    {
      "cell_type": "code",
      "metadata": {
        "id": "HiuJXUWIv0Z9"
      },
      "source": [
        "\n",
        "def get_batsman_bowler_details(inning):\n",
        "  batsman_run_ball_dict = {}\n",
        "  bowler_detail_dict = {}\n",
        "  wickets_fall = 0\n",
        "\n",
        "  overs_stats = get_overs_stats(inning[['over','total_runs','player_dismissed']])\n",
        "\n",
        "  for index, row in inning.iterrows():\n",
        "      batsman = row['batsman']\n",
        "      run = row['batsman_runs']\n",
        "      total_runs = row['total_runs']\n",
        "     \n",
        "      if row['wide_runs'] !=0 or row['noball_runs'] != 0:\n",
        "        bowl_to_add = 0\n",
        "      else:\n",
        "        bowl_to_add = 1\n",
        "\n",
        "      bowler = row['bowler']\n",
        "      wicket = row['player_dismissed']\n",
        "      wicket_kind = row['dismissal_kind']\n",
        "\n",
        "      if batsman in batsman_run_ball_dict:\n",
        "    #     old_run = batsman_run_ball_dict[batsman]['run']\n",
        "    #     old_bowls_played = batsman_run_ball_dict[batsman]['bowls_played']\n",
        "    #     batsman_run_ball_dict[batsman] = {'run':old_run+run, 'bowls_played':old_bowls_played+bowl_to_add}\n",
        "        batsman_run_ball_dict[batsman]['run'] += run\n",
        "        batsman_run_ball_dict[batsman]['bowls_played'] += bowl_to_add     \n",
        "      else:\n",
        "        batsman_run_ball_dict[batsman] = {'run':run, 'bowls_played':1}\n",
        "    \n",
        "\n",
        "      if bowler in bowler_detail_dict:\n",
        "        # old_run_given = bowler_detail_dict[bowler]['runs_given']\n",
        "        # old_bowls_bowled = bowler_detail_dict[bowler]['bowls_bowled']\n",
        "        bowler_detail_dict[bowler]['bowls_bowled'] += bowl_to_add\n",
        "        bowler_detail_dict[bowler]['runs_given'] += total_runs\n",
        "      else:\n",
        "        bowler_detail_dict[bowler] = {'runs_given':total_runs, 'bowls_bowled':bowl_to_add, 'wicket_took':[]}\n",
        "\n",
        "      if wicket == wicket and wicket_kind not in ['run out', 'retired hurt', 'obstructing the field']:\n",
        "        bowler_detail_dict[bowler]['wicket_took'].append(wicket)\n",
        "        wickets_fall += 1\n",
        "      elif wicket_kind in ['run out', 'retired hurt', 'obstructing the field']:\n",
        "        wickets_fall += 1\n",
        "\n",
        "  for batsman in batsman_run_ball_dict:\n",
        "    batsman_dict = batsman_run_ball_dict[batsman]\n",
        "    strike_rate = int(batsman_dict['run'])/int(batsman_dict['bowls_played'])*100\n",
        "    batsman_dict['strike_rate'] = round(strike_rate,2)\n",
        "\n",
        "\n",
        "  for bowler in bowler_detail_dict:\n",
        "    bowler_dict = bowler_detail_dict[bowler]\n",
        "    eco = bowler_dict['runs_given']*6/bowler_dict['bowls_bowled']\n",
        "    bowler_dict['eco'] = round(eco,2)\n",
        "\n",
        "    overs = str(bowler_dict['bowls_bowled']//6)+'.'+str(bowler_dict['bowls_bowled']%6)\n",
        "    bowler_dict['overs'] = overs\n",
        "\n",
        "\n",
        "  # return batsman_run_ball_dict,  bowler_detail_dict\n",
        "  return create_inning_scorecard(batsman_run_ball_dict, bowler_detail_dict), wickets_fall, overs_stats\n"
      ],
      "execution_count": null,
      "outputs": []
    },
    {
      "cell_type": "code",
      "metadata": {
        "id": "rRyRKx939m_Y"
      },
      "source": [
        "def get_scorecard(match_id):\n",
        "  delivery_df = deliveries_df[deliveries_df['match_id'] == match_id]\n",
        "  inning_one_df = delivery_df[delivery_df['inning']==1]\n",
        "  inning_two_df = delivery_df[delivery_df['inning']==2]\n",
        "  inn_1, inn_2 = {}, {}\n",
        "\n",
        "  match_details = matches_df[matches_df['id'] == match_id]\n",
        "  team1 = match_details['team1'].values[0]\n",
        "  team2 = match_details['team2'].values[0]\n",
        "  winner = match_details['winner'].values[0]\n",
        "\n",
        "  if match_details['dl_applied'].values[0] == 1:\n",
        "      if match_details['win_by_runs'].values[0] > 0:\n",
        "        win_by_runs = match_details['win_by_runs'].values[0]\n",
        "        result = (f\"Duckworth-Lewis-Stern Applied: Yes\\nMatch Played between {team1} and {team2}\\n{winner} wins the match by {win_by_runs} runs\\n\")\n",
        "      else:\n",
        "        win_by_wickets = match_details['win_by_wickets'].values[0]\n",
        "        result = (f\"Duckworth-Lewis-Stern Applied: Yes\\nMatch Played between {team1} and {team2}\\n{winner} wins the match by {win_by_wickets} runs\\n\")  \n",
        "  else:\n",
        "      if match_details['win_by_runs'].values[0] > 0:\n",
        "        win_by_runs = match_details['win_by_runs'].values[0]\n",
        "        result = (f\"Duckworth-Lewis-Stern Applied: No\\nMatch Played between {team1} and {team2}\\n{winner} wins the match by {win_by_runs} runs\\n\")\n",
        "      else:\n",
        "        win_by_wickets = match_details['win_by_wickets'].values[0]\n",
        "        result = (f\"Duckworth-Lewis-Stern Applied: No\\nMatch Played between {team1} and {team2}\\n{winner} wins the match by {win_by_wickets} runs\\n\")\n",
        "\n",
        "\n",
        "  inn_1['scorecard'], wickets_1, overs_stats_1 = get_batsman_bowler_details(inning_one_df)\n",
        "  inn_1['overs'] =  (inn_1['scorecard'][1]['over']).astype('float').sum()\n",
        "  inn_1['runs'] = inn_1['scorecard'][1]['runs'].sum()\n",
        "\n",
        "  inn_2['scorecard'], wickets_2, overs_stats_2 = get_batsman_bowler_details(inning_two_df)\n",
        "  inn_2['overs'] =  (inn_2['scorecard'][1]['over']).astype('float').sum()\n",
        "  inn_2['runs'] = inn_2['scorecard'][1]['runs'].sum()\n",
        "\n",
        "\n",
        "  return inn_1, wickets_1, inn_2, wickets_2, result, overs_stats_1, overs_stats_2\n",
        "  #return get_batsman_bowler_details(inning_one_df), get_batsman_bowler_details(inning_two_df)  \n"
      ],
      "execution_count": null,
      "outputs": []
    },
    {
      "cell_type": "code",
      "metadata": {
        "id": "OWJu-g9i-dQZ"
      },
      "source": [
        "inn_1, wickets_1, inn_2, wickets_2, match_result, overs_stats_1, overs_stats_2 = get_scorecard(78)\n",
        "print('**********'*4,'\\n\\t\\tInning: 1\\n'+'**********'*4)\n",
        "print('|  Score: '+str(inn_1['runs'])+'/'+str(wickets_1),' |\\t|  Overs:',inn_1['overs'],' |') # Add wickets as well\n",
        "print('Scorecard: ')\n",
        "inn_1['scorecard'][0]"
      ],
      "execution_count": null,
      "outputs": []
    },
    {
      "cell_type": "code",
      "metadata": {
        "id": "Pf1EIiNszz1D"
      },
      "source": [
        "sns.set_theme(style=\"whitegrid\")\n",
        "\n",
        "ax = plt.figure(figsize=(20,10))\n",
        "\n",
        "inn1_df = inn_1['scorecard'][0]\n",
        "ax = sns.barplot(data = inn1_df, x = 'batsman', y = 'runs', color = 'yellow',alpha=0.7)\n",
        "ax = sns.barplot(data = inn1_df, x = 'batsman', y = 'ball', color = 'green',alpha=0.5)\n",
        "#plt.ax.bar(alpha=0.1)\n",
        "# for rate in inn1_df['strike_rate']:\n",
        "#     ax.text(ax.patches.get_x(), inn1_df.runs+5,rate,color='black', ha='center')\n",
        "\n",
        "for p, rate in zip(ax.patches, inn1_df['strike_rate']):\n",
        "    ax.annotate(format('S.R.: '+str(rate)), (p.get_x() + p.get_width() / 2.,p.get_height()),\n",
        "               ha = 'center', va = 'center',xytext=(0,9),\n",
        "               textcoords = 'offset points')\n",
        "\n",
        "ax.set(xlabel = 'Batsman',ylabel = 'Runs v/s Balls', title = 'Batting Statistics',alpha=np.random.rand())"
      ],
      "execution_count": null,
      "outputs": []
    },
    {
      "cell_type": "code",
      "metadata": {
        "id": "bmH2kRALoPZR"
      },
      "source": [
        "inn1_df.set_index('batsman').plot.pie(y = 'runs',figsize=(10,10))"
      ],
      "execution_count": null,
      "outputs": []
    },
    {
      "cell_type": "code",
      "metadata": {
        "id": "jO_KnOgnxdFo"
      },
      "source": [
        "inn_1['scorecard'][1]"
      ],
      "execution_count": null,
      "outputs": []
    },
    {
      "cell_type": "code",
      "metadata": {
        "id": "fg8zCppY2S9w"
      },
      "source": [
        "sns.set_theme(style=\"whitegrid\")\n",
        "\n",
        "ax = plt.figure(figsize=(20,10))\n",
        "\n",
        "inn1_df = inn_1['scorecard'][1]\n",
        "ax = sns.barplot(data = inn1_df, x = 'bowler', y = 'runs', color= 'red',alpha=0.7)\n",
        "ax = sns.barplot(data = inn1_df, x = 'bowler', y = 'economy', color = 'y',alpha=0.8)\n",
        "\n",
        "# for rate in inn1_df['strike_rate']:\n",
        "#     ax.text(ax.patches.get_x(), inn1_df.runs+5,rate,color='black', ha='center')\n",
        "\n",
        "for p, eco in zip(ax.patches, inn1_df['wickets']):\n",
        "    ax.annotate(format('Wickets:'+str(eco)), (p.get_x() + p.get_width() / 2.,p.get_height()),\n",
        "               ha = 'center', va = 'center',xytext=(0,9),\n",
        "               textcoords = 'offset points')\n",
        "\n",
        "ax.set(xlabel = 'Bowlers',ylabel = 'Runs v/s Economy', title = 'Bowling Statistics')"
      ],
      "execution_count": null,
      "outputs": []
    },
    {
      "cell_type": "code",
      "metadata": {
        "id": "SXkjMUGTL_uZ"
      },
      "source": [
        "overs_stats_2.head()"
      ],
      "execution_count": null,
      "outputs": []
    },
    {
      "cell_type": "code",
      "metadata": {
        "id": "dGC0YCP-K7v9"
      },
      "source": [
        "sns.set_theme(style=\"whitegrid\")\n",
        "\n",
        "ax = plt.figure(figsize=(20,10))\n",
        "\n",
        "overs_stats_df = overs_stats_1\n",
        "ax = sns.barplot(data = overs_stats_df, x = 'over', y = 'total_runs', palette= 'Set2')\n",
        "#ax = sns.barplot(data = inn1_df, x = 'bowler', y = 'economy', color = 'y')\n",
        "\n",
        "# for rate in inn1_df['strike_rate']:\n",
        "#     ax.text(ax.patches.get_x(), inn1_df.runs+5,rate,color='black', ha='center')\n",
        "\n",
        "for p, wickets in zip(ax.patches, overs_stats_df['player_dismissed']):\n",
        "    ax.annotate(' * '*wickets, (p.get_x() + p.get_width() / 2.,p.get_height()),\n",
        "               ha = 'center', va = 'center',xytext=(0,9),\n",
        "               textcoords = 'offset points')\n",
        "\n",
        "ax.set(xlabel = 'Overs',ylabel = 'Runs', title = 'Runs Per Over')"
      ],
      "execution_count": null,
      "outputs": []
    },
    {
      "cell_type": "code",
      "metadata": {
        "id": "gGBXG2Tohogx"
      },
      "source": [
        "print('**********'*4,'\\n\\t\\tInning: 2\\n'+'**********'*4)\n",
        "print('|  Score: '+str(inn_2['runs'])+'/'+str(wickets_2),' |\\t|  Overs:',inn_2['overs'],' |') # Add wickets as well\n",
        "print('Scorecard: ')\n",
        "inn_2['scorecard'][0]"
      ],
      "execution_count": null,
      "outputs": []
    },
    {
      "cell_type": "code",
      "metadata": {
        "id": "dxi5LaYpApiV"
      },
      "source": [
        "sns.set_theme(style=\"whitegrid\")\n",
        "\n",
        "inn2_df = inn_2['scorecard'][0]\n",
        "fig, ax = plt.subplots(figsize=(20,10))\n",
        "\n",
        "ax = sns.barplot(data = inn2_df, x = 'batsman', y = 'runs', color = 'yellow',alpha=0.7)\n",
        "ax = sns.barplot(data = inn2_df, x = 'batsman', y = 'ball', color = 'green',alpha=0.5)\n",
        "\n",
        "\n",
        "for p, rate in zip(ax.patches, inn2_df['strike_rate']):\n",
        "    ax.annotate(format('S.R.: '+str(rate)), (p.get_x() + p.get_width() / 2.,p.get_height()),\n",
        "               ha = 'center', va = 'center',xytext=(0,9),\n",
        "               textcoords = 'offset points')\n",
        "\n",
        "\n",
        "ax.set(xlabel = 'Batsman',ylabel = 'Runs v/s Balls', title = 'Batting Statistics')\n"
      ],
      "execution_count": null,
      "outputs": []
    },
    {
      "cell_type": "code",
      "metadata": {
        "id": "pqsQIdBnm8KC"
      },
      "source": [
        "fig = inn2_df.set_index('batsman').plot.pie(y = 'runs',figsize=(10,10))"
      ],
      "execution_count": null,
      "outputs": []
    },
    {
      "cell_type": "code",
      "metadata": {
        "id": "qLOb9oZxxVkS"
      },
      "source": [
        "inn_2['scorecard'][1]"
      ],
      "execution_count": null,
      "outputs": []
    },
    {
      "cell_type": "code",
      "metadata": {
        "id": "sFWd8ucy8g1g"
      },
      "source": [
        "sns.set_theme(style=\"whitegrid\")\n",
        "\n",
        "ax = plt.figure(figsize=(20,10))\n",
        "\n",
        "inn2_df = inn_2['scorecard'][1]\n",
        "ax = sns.barplot(data = inn2_df, x = 'bowler', y = 'runs', color= 'red',alpha=0.7)\n",
        "ax = sns.barplot(data = inn2_df, x = 'bowler', y = 'economy', color = 'y',alpha=0.8)\n",
        "\n",
        "# for rate in inn1_df['strike_rate']:\n",
        "#     ax.text(ax.patches.get_x(), inn1_df.runs+5,rate,color='black', ha='center')\n",
        "\n",
        "for p, eco in zip(ax.patches, inn2_df['wickets']):\n",
        "    ax.annotate(format('Wickets:'+str(eco)), (p.get_x() + p.get_width() / 2.,p.get_height()),\n",
        "               ha = 'center', va = 'center',xytext=(0,9),\n",
        "               textcoords = 'offset points')\n",
        "\n",
        "ax.set(xlabel = 'Bowlers',ylabel = 'Runs v/s Economy', title = 'Bowling Statistics')"
      ],
      "execution_count": null,
      "outputs": []
    },
    {
      "cell_type": "code",
      "metadata": {
        "id": "pMQsYlRxMZH1"
      },
      "source": [
        "sns.set_theme(style=\"whitegrid\")\n",
        "\n",
        "\n",
        "ax = plt.figure(figsize=(20,10))\n",
        "\n",
        "overs_stats_df = overs_stats_2\n",
        "ax = sns.barplot(data = overs_stats_df, x = 'over', y = 'total_runs', palette= 'Set2')\n",
        "#ax = sns.barplot(data = inn1_df, x = 'bowler', y = 'economy', color = 'y')\n",
        "\n",
        "# for rate in inn1_df['strike_rate']:\n",
        "#     ax.text(ax.patches.get_x(), inn1_df.runs+5,rate,color='black', ha='center')\n",
        "\n",
        "for p, wickets in zip(ax.patches, overs_stats_df['player_dismissed']):\n",
        "    ax.annotate(' * '*wickets, (p.get_x() + p.get_width() / 2.,p.get_height()),\n",
        "               ha = 'center', va = 'center',xytext=(0,9),\n",
        "               textcoords = 'offset points')\n",
        "\n",
        "ax.set(xlabel = 'Overs',ylabel = 'Runs', title = 'Runs Per Over')"
      ],
      "execution_count": null,
      "outputs": []
    },
    {
      "cell_type": "code",
      "metadata": {
        "id": "o2pc6vX58JxL"
      },
      "source": [
        "df1 = copy.deepcopy(inn_1['scorecard'][0])\n",
        "df1['Team'] = 'Team 1'\n",
        "df2 = copy.deepcopy(inn_2['scorecard'][0])\n",
        "df2['Team'] = 'Team 2'\n",
        "new_name = {'batsman': 'Batsman', 'runs': 'Runs Scored','ball': 'Balls Faced','strike_rate':'Strike Rate'}\n",
        "batting_df = df1.merge(df2, how='outer')\n",
        "batting_df.rename(columns = new_name, inplace=True)\n",
        "batting_df.head()"
      ],
      "execution_count": null,
      "outputs": []
    },
    {
      "cell_type": "code",
      "metadata": {
        "id": "ta50khqg4bRX"
      },
      "source": [
        "import plotly.express as px\n",
        "\n",
        "# df = px.data. # iris is a pandas DataFrame\n",
        "fig = px.scatter(batting_df, x=\"Balls Faced\", y=\"Runs Scored\",color = 'Team',size='Strike Rate',\n",
        "                 title='Runs Scored V/S Balls Faced By Each Player',hover_data=['Batsman'])\n",
        "#fig.set(xlabel='Balls Faced',ylabel = 'Runs Scored',title='BALLS V/S RUNS BY EACH PLAYER')\n",
        "fig.show()"
      ],
      "execution_count": null,
      "outputs": []
    },
    {
      "cell_type": "code",
      "metadata": {
        "id": "M0EDltQhzEP4"
      },
      "source": [
        "df1, df2 = copy.deepcopy(overs_stats_1), copy.deepcopy(overs_stats_2)\n",
        "df1.rename(columns={'total_runs':'team1_runs','player_dismissed':'player_dismissed_1'}, inplace=True)\n",
        "df2.rename(columns={'total_runs':'team2_runs','player_dismissed':'player_dismissed_2'}, inplace=True)\n",
        "df = df1.merge(df2, how='outer',on='over')\n",
        "df.fillna(0,inplace=True)"
      ],
      "execution_count": null,
      "outputs": []
    },
    {
      "cell_type": "code",
      "metadata": {
        "id": "OV81Oz0N9CGH"
      },
      "source": [
        "ax = df.plot(x='over',y=['team1_runs','team2_runs'],kind='bar',figsize=(20,10))\n",
        "\n",
        "\n",
        "for p1,p2, w1,w2 in zip(ax.patches[:(len(ax.patches)//2)+1],ax.patches[len(ax.patches)//2:], df['player_dismissed_1'], df['player_dismissed_2']):\n",
        "    ax.annotate(' * '*int(w1), (p1.get_x() + p1.get_width() / 2.,p1.get_height()),\n",
        "               ha = 'center', va = 'center',xytext=(0,9),\n",
        "               textcoords = 'offset points')\n",
        "    ax.annotate(' * '*int(w2), (p2.get_x() + p2.get_width() / 2.,p2.get_height()),\n",
        "               ha = 'center', va = 'center',xytext=(0,9),\n",
        "               textcoords = 'offset points')\n",
        "    \n",
        "ax.set(xlabel='Overs',ylabel='Runs',title='MANHATTAN')"
      ],
      "execution_count": null,
      "outputs": []
    },
    {
      "cell_type": "code",
      "metadata": {
        "id": "wsrnpsazOGXj"
      },
      "source": [
        "overs_stats_df_1 = copy.deepcopy(overs_stats_1)\n",
        "overs_stats_df_2 = copy.deepcopy(overs_stats_2)"
      ],
      "execution_count": null,
      "outputs": []
    },
    {
      "cell_type": "code",
      "metadata": {
        "id": "HhtQbEH3OM1n"
      },
      "source": [
        "overs_stats_df_1['player_dismissed_at'] = [at if is_out==1 else np.nan for is_out, at in zip(overs_stats_df_1.player_dismissed, overs_stats_df_1.score)]\n",
        "overs_stats_df_2['player_dismissed_at'] = [at if is_out==1 else np.nan for is_out, at in zip(overs_stats_df_2.player_dismissed, overs_stats_df_2.score)]"
      ],
      "execution_count": null,
      "outputs": []
    },
    {
      "cell_type": "code",
      "metadata": {
        "id": "o0CBLKh4yTx3"
      },
      "source": [
        "sns.set_theme(style=\"whitegrid\")\n",
        "\n",
        "ax = plt.figure(figsize=(15,8))\n",
        "\n",
        "#marker = 'o',dashes=False, \n",
        "ax = sns.lineplot(data = overs_stats_df_1, x = 'over', y = 'score',label = 'Chennai')\n",
        "ax = sns.lineplot(data = overs_stats_df_2, x = 'over', y = 'score',label = 'Delhi')\n",
        "ax = sns.scatterplot(data = overs_stats_df_1, x='over', y= 'player_dismissed_at', marker = 'o')\n",
        "ax = sns.scatterplot(data = overs_stats_df_2, x='over', y= 'player_dismissed_at', marker = 'o')\n",
        "\n",
        "\n",
        "# for k in overs_stats_df_1['player_dismissed']:\n",
        "#     if k == 28:\n",
        "#         ax = sns.scatterplot(data = overs_stats_df_1, x='over', y= 'player_dismissed_at', marker = 'o') \n",
        "\n",
        "# for p, wickets in zip(ax.patches, overs_stats_df['player_dismissed']):\n",
        "#     ax.annotate('kkkk', (p.get_x(),overs_stats_df_1['score']),\n",
        "#                ha = 'center', va = 'center',xytext=(0,9),\n",
        "#                textcoords = 'offset points')\n",
        "\n",
        "ax.set(xlabel = 'Overs',ylabel = 'Runs', title = 'Runs Per Over')"
      ],
      "execution_count": null,
      "outputs": []
    },
    {
      "cell_type": "code",
      "metadata": {
        "id": "At-hxmbBwgEG"
      },
      "source": [
        "print('#######'*4+'\\n\\tMATCH RESULT\\n'+'\\t'+'***'*4+'\\n'+match_result)"
      ],
      "execution_count": null,
      "outputs": []
    },
    {
      "cell_type": "code",
      "metadata": {
        "id": "V4rzs-VAz0Yu"
      },
      "source": [
        "def get_points_df():\n",
        "    df = matches_df[matches_df['Season']==season].iloc[:-2]\n",
        "    df = df.groupby('winner').agg({'id':'count'}).rename(columns={'id':'matches_won'}).reset_index()\n",
        "    points = [val*2 for val in df['matches_won']]\n",
        "    team_points_df = pd.concat([df,pd.DataFrame({'points':points})],axis=1)\n",
        "    team_points_df.rename(columns={'winner':'team_name'}, inplace=True)\n",
        "    return team_points_df\n",
        "\n",
        "\n",
        "def get_points_table(ipl_season):\n",
        "\n",
        "    if ipl_season=='Select Season':\n",
        "        print('Please select a season!')\n",
        "        return None\n",
        "    elif int(ipl_season) > 2019:\n",
        "        print('Sorry, Data Not Avaliable!')\n",
        "        return None\n",
        "    ipl_season = int(ipl_season)\n",
        "    print('\\n\\033[1mIPL Seaon:',ipl_season)\n",
        "\n",
        "    global season\n",
        "    season = ipl_season\n",
        "    global points_df\n",
        "    points_df = get_points_df()\n",
        "    points_df.sort_values(by='points',ascending=False)\n",
        "    return points_df"
      ],
      "execution_count": null,
      "outputs": []
    },
    {
      "cell_type": "code",
      "metadata": {
        "id": "CxJMN_NizjjE"
      },
      "source": [
        "def get_team_stadium_win_lose(season, team_ground_win_lose_dict ):\n",
        "  season_match_df = matches_df[matches_df['Season'] == season]\n",
        "  for index, rows in season_match_df.iterrows():\n",
        "    winner = rows['winner']\n",
        "    loser = rows['team1'] if winner != rows['team1'] else rows['team2']\n",
        "    venue = rows['venue']\n",
        "\n",
        "    old_name_new_name_dict = {'Deccan Chargers' :'Sunrisers Hyderabad', 'Pune Warriors': 'Rising Pune Supergiants', 'Rising Pune Supergiant':'Rising Pune Supergiants','Delhi Daredevils':'Delhi Capitals'}\n",
        "    old_stad_new_stad_dict = {'M Chinnaswamy Stadium':'M. Chinnaswamy Stadium', 'IS Bindra Stadium':'Punjab Cricket Association IS Bindra Stadium, Mohali','Punjab Cricket Association Stadium, Mohali':'Punjab Cricket Association IS Bindra Stadium, Mohali', 'Rajiv Gandhi Intl. Cricket Stadium':'Rajiv Gandhi International Stadium, Uppal', 'Feroz Shah Kotla':'Feroz Shah Kotla Ground'}\n",
        "\n",
        "    if winner in old_name_new_name_dict:\n",
        "      winner = old_name_new_name_dict[winner]\n",
        "    if loser in old_name_new_name_dict:\n",
        "      loser = old_name_new_name_dict[loser]\n",
        "\n",
        "    if venue in old_stad_new_stad_dict:\n",
        "      venue = old_stad_new_stad_dict[venue]\n",
        "\n",
        "    if winner in team_ground_win_lose_dict:\n",
        "    \n",
        "      if venue in team_ground_win_lose_dict[winner]:\n",
        "        team_ground_win_lose_dict[winner][venue][0] += 1 \n",
        "      else:\n",
        "        team_ground_win_lose_dict[winner][venue] = [1,0]  \n",
        "\n",
        "    else:\n",
        "      team_ground_win_lose_dict[winner] = {venue:[1,0]}\n",
        "\n",
        "    if loser in team_ground_win_lose_dict:\n",
        "\n",
        "      if venue in team_ground_win_lose_dict[loser]:\n",
        "        team_ground_win_lose_dict[loser][venue][1] += 1 \n",
        "      else:\n",
        "        team_ground_win_lose_dict[loser][venue] =[0,1]  \n",
        "\n",
        "    else:\n",
        "      team_ground_win_lose_dict[loser] = {venue:[0,1]}\n",
        "  \n",
        "\n",
        "  return team_ground_win_lose_dict\n"
      ],
      "execution_count": null,
      "outputs": []
    },
    {
      "cell_type": "code",
      "metadata": {
        "id": "xYFF4RmNzprl"
      },
      "source": [
        "def get_team_ground_analytics(season_team_ground_win_lose_dict):\n",
        "\n",
        "  if np.nan in season_team_ground_win_lose_dict:\n",
        "        season_team_ground_win_lose_dict.pop(np.nan)\n",
        "\n",
        "  team_ground_win_dict = {}\n",
        "  team_ground_lose_dict = {}\n",
        "  team_ground_win_percent_dict = {}\n",
        "\n",
        "\n",
        "  for team in season_team_ground_win_lose_dict:\n",
        "    grounds_dict = season_team_ground_win_lose_dict[team]\n",
        "  \n",
        "    ground_win = grounds_dict.copy()\n",
        "    ground_lose = grounds_dict.copy()\n",
        "    ground_win_percent = grounds_dict.copy()\n",
        "    ground_total_played = grounds_dict.copy()\n",
        "\n",
        "    for ground in grounds_dict:\n",
        "      \n",
        "      win_lose = grounds_dict[ground]\n",
        "      win_percent = round((win_lose[0]*100)/(win_lose[0]+win_lose[1]),2)\n",
        "      ground_win[ground] = win_lose[0]\n",
        "      ground_lose[ground] = win_lose[1]\n",
        "      ground_win_percent[ground] = win_percent\n",
        "\n",
        "    team_ground_win_dict[team] = ground_win\n",
        "    team_ground_lose_dict[team] = ground_lose\n",
        "    team_ground_win_percent_dict[team] = ground_win_percent\n",
        "\n",
        "  return team_ground_win_dict, team_ground_lose_dict, team_ground_win_percent_dict\n",
        "\n"
      ],
      "execution_count": null,
      "outputs": []
    },
    {
      "cell_type": "code",
      "metadata": {
        "id": "a4cn26Iwzta9"
      },
      "source": [
        "def plot_season_ground_win_matches():\n",
        "\n",
        "    team_stadium_win_lose_dict = get_team_stadium_win_lose(season, team_ground_win_lose_dict ={})\n",
        "    season_win_dict = get_team_ground_analytics(team_stadium_win_lose_dict)[0]\n",
        "    #print(f'{team_stadium_win_lose_dict} {season_win_dict}')\n",
        "    season_win_df = pd.DataFrame(season_win_dict)\n",
        "    \n",
        "    ax = season_win_df.set_index(season_win_df.index).plot(figsize=(18,8), kind='bar', title=f'Number of matches Won by teams on stadium in the year {season}', stacked=True, fontsize = 14)\n",
        "    ax.set_title(f'Team Performance in {season}', fontdict={'fontsize': '25', 'fontweight' : 'bold'})\n",
        "    plt.ylabel('Ground Name', fontsize=18)\n",
        "    plt.xlabel('Number of Matches Won', fontsize=18)\n",
        "\n",
        "\n",
        "def plot_season_ground_lose_matches():\n",
        "\n",
        "    team_stadium_win_lose_dict = get_team_stadium_win_lose(season, team_ground_win_lose_dict ={})\n",
        "    season_lose_dict = get_team_ground_analytics(team_stadium_win_lose_dict)[1]\n",
        "    #print(f'{team_stadium_win_lose_dict} {season_lose_dict}')\n",
        "\n",
        "    season_lose_df = pd.DataFrame(season_lose_dict)\n",
        "    ax = season_lose_df.set_index(season_lose_df.index).plot(figsize=(18,8),kind='bar', title=f'Number of matches Lost by teams on stadium in the year {season}', stacked=True, fontsize = 14)\n",
        "    ax.set_title(f'Team Performance in {season}', fontdict={'fontsize': '25', 'fontweight' : 'bold'})\n",
        "    plt.ylabel('Ground Name', fontsize=18)\n",
        "    plt.xlabel('Number of Matches Lost', fontsize=18)"
      ],
      "execution_count": null,
      "outputs": []
    },
    {
      "cell_type": "code",
      "metadata": {
        "id": "TDE31wVuzx7i"
      },
      "source": [
        "\n",
        "def get_india_heat_map(map_df, column_name):\n",
        "  fig, ax = plt.subplots(1, figsize=(13, 13))\n",
        "  ax.axis('on')\n",
        "  ax.set_title(f'Team Performance in {season}', fontdict={'fontsize': '25', 'fontweight' : 'bold'})\n",
        "  map_df.plot(column=column_name, cmap='YlOrRd' ,linewidth=0.8, ax=ax, edgecolor='0.8', legend=True)\n",
        "  ax.set_facecolor('skyblue')\n",
        "\n",
        "def get_state( team_name):\n",
        "  team_state_dict = {'Kochi Tuskers Kerala':'Kerala',\n",
        "  'Gujarat Lions':'Gujarat',\n",
        "  'Rising Pune Supergiant': 'Maharashtra',\n",
        "  'Chennai Super Kings':'Tamil Nadu',\n",
        "  'Rajasthan Royals':'Rajasthan',\n",
        "  'Mumbai Indians':'Maharashtra',\n",
        "  'Kings XI Punjab':'Punjab',\n",
        "  'Sunrisers Hyderabad':'Telangana',\n",
        "  'Kolkata Knight Riders':'West Bengal',\n",
        "  'Royal Challengers Bangalore':'Karnataka',\n",
        "  'Delhi Capitals':'NCT of Delhi' }\n",
        "\n",
        "  return team_state_dict[team_name] if team_name in team_state_dict else np.nan\n",
        "\n",
        "\n",
        "def get_district( team_name):\n",
        "  team_city_dict = {'Kochi Tuskers Kerala':'Ernakulam',\n",
        "  'Gujarat Lions':'Gujarat',\n",
        "  'Rising Pune Supergiant': 'Pune',\n",
        "  'Chennai Super Kings':'Chennai',\n",
        "  'Rajasthan Royals':'Rajasthan',\n",
        "  'Mumbai Indians':'Greater Bombay',\n",
        "  'Kings XI Punjab':'Punjab',\n",
        "  'Sunrisers Hyderabad':'Hyderabad',\n",
        "  'Kolkata Knight Riders':'Kolkatsa',\n",
        "  'Royal Challengers Bangalore':'Bangalore Urban',\n",
        "  'Delhi Capital':'NCT of Delhi' }\n",
        "\n",
        "  return team_city_dict[team_name] if team_name in team_city_dict else np.nan\n",
        "\n",
        "def get_india_map_visualization(column_name):\n",
        "\n",
        "    team_st_dict = {\n",
        "        'Kochi Tuskers Kerala':'Kerala',\n",
        "        'Rising Pune Supergiant': 'Maharashtra',\n",
        "        'Chennai Super Kings':'Tamil Nadu',\n",
        "        'Mumbai Indians':'Maharashtra',\n",
        "        'Sunrisers Hyderabad':'Telangana',\n",
        "        'Kolkata Knight Riders':'West Bengal',\n",
        "        'Royal Challengers Bangalore':'Karnataka',\n",
        "        }\n",
        "\n",
        "    updated_points_state_df = points_df.copy()\n",
        "    updated_points_district_df = points_df.copy()\n",
        "\n",
        "    list_of_city = ['Pune','Ernakulam', 'Chennai', 'Greater Bombay', 'Hyderabad', 'Kolkata', 'Bangalore Urban']\n",
        "    city_df = map_district_df[map_district_df['NAME_2'].isin(list_of_city)]\n",
        "\n",
        "    updated_points_state_df['place_name'] = updated_points_state_df.apply(lambda x: get_state(x['team_name']), axis=1)\n",
        "    updated_points_district_df['place_name'] = updated_points_district_df.apply(lambda x: get_district(x['team_name']) , axis=1)\n",
        "\n",
        "    points_combined = pd.concat([ updated_points_district_df, updated_points_state_df], ignore_index=True)\n",
        "\n",
        "    new_city_df = city_df[['NAME_2', 'geometry']].rename(columns= {'NAME_2':'st_nm'})\n",
        "   \n",
        "    map_combined = pd.concat([map_df, new_city_df])\n",
        "\n",
        "    map_combined.rename(columns={'st_nm':'place_name'}, inplace = True)\n",
        "\n",
        "    merged = map_combined.merge(points_combined, how='left', on='place_name').fillna(0)\n",
        "\n",
        "    teams_new = [team_st_dict[i] for i in updated_points_district_df['team_name'] if i in team_st_dict.keys()]\n",
        "\n",
        "    merged['points'] = merged.apply(lambda x:(x[4]-3) if x[0] in teams_new else x[4], axis = 1)\n",
        "   \n",
        "    index_names = merged[ (merged['place_name'].isin(list_of_city)) & (merged['points'] <= 0.0)].index\n",
        "  \n",
        "    merged.drop(index_names, inplace = True)\n",
        "\n",
        "    get_india_heat_map(merged, 'points')\n",
        "\n"
      ],
      "execution_count": null,
      "outputs": []
    },
    {
      "cell_type": "code",
      "metadata": {
        "id": "Nnsfze4wiTzX"
      },
      "source": [
        "def get_team_stadium_win_lose(season, team_ground_win_lose_dict ):\n",
        "  season_match_df = matches_df[matches_df['Season'] == season]\n",
        "  for index, rows in season_match_df.iterrows():\n",
        "    winner = rows['winner']\n",
        "    loser = rows['team1'] if winner != rows['team1'] else rows['team2']\n",
        "    venue = rows['venue']\n",
        "\n",
        "    old_name_new_name_dict = {'Deccan Chargers' :'Sunrisers Hyderabad', 'Pune Warriors': 'Rising Pune Supergiants', 'Rising Pune Supergiant':'Rising Pune Supergiants','Delhi Daredevils':'Delhi Capitals'}\n",
        "    old_stad_new_stad_dict = {'M Chinnaswamy Stadium':'M. Chinnaswamy Stadium', 'IS Bindra Stadium':'Punjab Cricket Association IS Bindra Stadium, Mohali','Punjab Cricket Association Stadium, Mohali':'Punjab Cricket Association IS Bindra Stadium, Mohali', 'Rajiv Gandhi Intl. Cricket Stadium':'Rajiv Gandhi International Stadium, Uppal', 'Feroz Shah Kotla':'Feroz Shah Kotla Ground'}\n",
        "\n",
        "    if winner in old_name_new_name_dict:\n",
        "      winner = old_name_new_name_dict[winner]\n",
        "    if loser in old_name_new_name_dict:\n",
        "      loser = old_name_new_name_dict[loser]\n",
        "\n",
        "    if venue in old_stad_new_stad_dict:\n",
        "      venue = old_stad_new_stad_dict[venue]\n",
        "\n",
        "    if winner in team_ground_win_lose_dict:\n",
        "    \n",
        "      if venue in team_ground_win_lose_dict[winner]:\n",
        "        team_ground_win_lose_dict[winner][venue][0] += 1 \n",
        "      else:\n",
        "        team_ground_win_lose_dict[winner][venue] = [1,0]  \n",
        "\n",
        "    else:\n",
        "      team_ground_win_lose_dict[winner] = {venue:[1,0]}\n",
        "\n",
        "    if loser in team_ground_win_lose_dict:\n",
        "\n",
        "      if venue in team_ground_win_lose_dict[loser]:\n",
        "        team_ground_win_lose_dict[loser][venue][1] += 1 \n",
        "      else:\n",
        "        team_ground_win_lose_dict[loser][venue] =[0,1]  \n",
        "\n",
        "    else:\n",
        "      team_ground_win_lose_dict[loser] = {venue:[0,1]}\n",
        "  \n",
        "\n",
        "  return team_ground_win_lose_dict\n"
      ],
      "execution_count": null,
      "outputs": []
    },
    {
      "cell_type": "code",
      "metadata": {
        "id": "K1x_1P6Jf8Qa"
      },
      "source": [
        "def get_team_ground_analytics(season_team_ground_win_lose_dict):\n",
        "\n",
        "  if np.nan in season_team_ground_win_lose_dict:\n",
        "        season_team_ground_win_lose_dict.pop(np.nan)\n",
        "\n",
        "  team_ground_win_dict = {}\n",
        "  team_ground_lose_dict = {}\n",
        "  team_ground_win_percent_dict = {}\n",
        "\n",
        "\n",
        "  for team in season_team_ground_win_lose_dict:\n",
        "    grounds_dict = season_team_ground_win_lose_dict[team]\n",
        "  \n",
        "    ground_win = grounds_dict.copy()\n",
        "    ground_lose = grounds_dict.copy()\n",
        "    ground_win_percent = grounds_dict.copy()\n",
        "    ground_total_played = grounds_dict.copy()\n",
        "\n",
        "    for ground in grounds_dict:\n",
        "      \n",
        "      win_lose = grounds_dict[ground]\n",
        "      win_percent = round((win_lose[0]*100)/(win_lose[0]+win_lose[1]),2)\n",
        "      ground_win[ground] = win_lose[0]\n",
        "      ground_lose[ground] = win_lose[1]\n",
        "      ground_win_percent[ground] = win_percent\n",
        "\n",
        "    team_ground_win_dict[team] = ground_win\n",
        "    team_ground_lose_dict[team] = ground_lose\n",
        "    team_ground_win_percent_dict[team] = ground_win_percent\n",
        "\n",
        "  return team_ground_win_dict, team_ground_lose_dict, team_ground_win_percent_dict\n",
        "\n"
      ],
      "execution_count": null,
      "outputs": []
    },
    {
      "cell_type": "code",
      "metadata": {
        "id": "alpUN36h-TGm"
      },
      "source": [
        "def get_team_stadium_win_loose(season, team_ground_win_loose_dict ):\n",
        "  season_match_df = matches_df[matches_df['Season'] == season]\n",
        "  for index, rows in season_match_df.iterrows():\n",
        "    winner = rows['winner']\n",
        "    loser = rows['team1'] if winner != rows['team1'] else rows['team2']\n",
        "    venue = rows['venue']\n",
        "    # print(rows)\n",
        "    old_name_new_name_dict = {'Deccan Chargers' :'Sunrisers Hyderabad', 'Pune Warriors': 'Rising Pune Supergiants', 'Rising Pune Supergiant':'Rising Pune Supergiants','Delhi Daredevils':'Delhi Capitals'}\n",
        "    old_stad_new_stad_dict = {'M Chinnaswamy Stadium':'M. Chinnaswamy Stadium', 'IS Bindra Stadium':'Punjab Cricket Association IS Bindra Stadium, Mohali','Punjab Cricket Association Stadium, Mohali':'Punjab Cricket Association IS Bindra Stadium, Mohali', 'Rajiv Gandhi Intl. Cricket Stadium':'Rajiv Gandhi International Stadium, Uppal', 'Feroz Shah Kotla':'Feroz Shah Kotla Ground'}\n",
        "\n",
        "    if winner in old_name_new_name_dict:\n",
        "      winner = old_name_new_name_dict[winner]\n",
        "    if loser in old_name_new_name_dict:\n",
        "      loser = old_name_new_name_dict[loser]\n",
        "\n",
        "    if venue in old_stad_new_stad_dict:\n",
        "      venue = old_stad_new_stad_dict[venue]\n",
        "\n",
        "    if winner in team_ground_win_loose_dict:\n",
        "    \n",
        "      if venue in team_ground_win_loose_dict[winner]:\n",
        "        team_ground_win_loose_dict[winner][venue][0] += 1 \n",
        "      else:\n",
        "        team_ground_win_loose_dict[winner][venue] = [1,0]  \n",
        "\n",
        "    else:\n",
        "      team_ground_win_loose_dict[winner] = {venue:[1,0]}\n",
        "\n",
        "    if loser in team_ground_win_loose_dict:\n",
        "\n",
        "      if venue in team_ground_win_loose_dict[loser]:\n",
        "        team_ground_win_loose_dict[loser][venue][1] += 1 \n",
        "      else:\n",
        "        team_ground_win_loose_dict[loser][venue] =[0,1]  \n",
        "\n",
        "    else:\n",
        "      team_ground_win_loose_dict[loser] = {venue:[0,1]}\n",
        "  \n",
        "\n",
        "  return team_ground_win_loose_dict\n"
      ],
      "execution_count": null,
      "outputs": []
    },
    {
      "cell_type": "markdown",
      "metadata": {
        "id": "ZNu4uDpOz0t6"
      },
      "source": [
        "So, We are looking into a particular season on which matches held, Now we want to know the lucky and the unlucky stadium for a team in that season. By lucky stadium we mean that the stadium in which a team won the max number of matches and by unlucky stadium we mean that the stadium in which the lost the max number of matches.\n",
        "\n",
        "So to show those  grounds we plotted stacked bar graph between ground and teams and tried to show the number of matches won by teams on a particular ground  so by just looking into the stacked graph you can simply see that the biggest stack made by a team shows the maximum number of matches won by that team in that particular ground, and so that ground can be termed lucky for that team. \n",
        "For example: if you select season 2019, you will see that Delhi Capitals  won maximum matches on Feroz Shah Kotla ground and so you can say that this ground is  lucky for them.\n",
        "Similarly we can analyze the unlucky stadium for the teams on any particular stadium, by looking into the second graph where we are showing the number of matches lost by a team in a particular stadium on that season.\n"
      ]
    },
    {
      "cell_type": "code",
      "metadata": {
        "id": "px3n4JmJwuFq"
      },
      "source": [
        "season = 'IPL-2019'\n",
        "def plot_season_ground_win_matches():\n",
        "    team_stadium_win_lose_dict = get_team_stadium_win_loose(season, team_ground_win_loose_dict ={})\n",
        "    win_dict = get_team_ground_analytics(team_stadium_win_lose_dict)[0]\n",
        "\n",
        "    win_df = pd.DataFrame(win_dict)\n",
        "    win_df.set_index(win_df.index).plot(kind='bar', stacked=True, xlabel='Ground Name', ylabel='Number of Matches Won')\n",
        "\n",
        "plot_season_ground_win_matches()\n",
        "\n",
        "def plot_season_ground_lose_matches():\n",
        "    team_stadium_win_loose_dict = get_team_stadium_win_lose(season, team_ground_win_loose_dict ={})\n",
        "    win_dict = get_team_ground_analytics(d)[0]\n",
        "\n",
        "    win_df = pd.DataFrame(win_dict)\n",
        "    win_df.set_index(win_df.index).plot(kind='bar', stacked=True, xlabel='Ground Name', ylabel='Number of Matches Won')\n",
        "\n",
        "plot_season_ground_win_matches()"
      ],
      "execution_count": null,
      "outputs": []
    },
    {
      "cell_type": "code",
      "metadata": {
        "id": "gXBYR2qGtfzH"
      },
      "source": [
        "def get_total_team_ground_win_loose_dict():\n",
        "  season_teams_dict = {}\n",
        "  seasons_arr = matches_df['Season'].unique()\n",
        "  team_ground_win_loose_dict = {}\n",
        "  \n",
        "  for season in seasons_arr:\n",
        "    team_win_loose_dict = get_team_stadium_win_loose(season, team_ground_win_loose_dict )\n",
        "    season_teams_dict[season] = team_win_loose_dict\n",
        "\n",
        "  return team_ground_win_loose_dict\n"
      ],
      "execution_count": null,
      "outputs": []
    },
    {
      "cell_type": "code",
      "metadata": {
        "id": "XosoOtWej98y"
      },
      "source": [
        ""
      ],
      "execution_count": null,
      "outputs": []
    },
    {
      "cell_type": "code",
      "metadata": {
        "id": "JGSvmMvsuh1G"
      },
      "source": [
        "\n",
        "def get_team_ground_analytics(total_team_ground_win_loose_dict):\n",
        "  # total_team_ground_win_loose_dict = get_total_team_ground_win_loose_dict()\n",
        "  if np.nan in total_team_ground_win_loose_dict:\n",
        "    total_team_ground_win_loose_dict.pop(np.nan)\n",
        "  team_ground_win_dict = {}\n",
        "  team_ground_loose_dict = {}\n",
        "  team_ground_win_percent_dict = {}\n",
        "\n",
        "\n",
        "  for team in total_team_ground_win_loose_dict:\n",
        "    grounds_dict = total_team_ground_win_loose_dict[team]\n",
        "  \n",
        "    ground_win = grounds_dict.copy()\n",
        "    ground_loose = grounds_dict.copy()\n",
        "    ground_win_percent = grounds_dict.copy()\n",
        "    ground_total_played = grounds_dict.copy()\n",
        "\n",
        "    for ground in grounds_dict:\n",
        "      \n",
        "      win_loose = grounds_dict[ground]\n",
        "      win_percent = round((win_loose[0]*100)/(win_loose[0]+win_loose[1]),2)\n",
        "      ground_win[ground] = win_loose[0]\n",
        "      ground_loose[ground] = win_loose[1]\n",
        "      ground_win_percent[ground] = win_percent\n",
        "\n",
        "    team_ground_win_dict[team] = ground_win\n",
        "    team_ground_loose_dict[team] = ground_loose\n",
        "    team_ground_win_percent_dict[team] = ground_win_percent\n",
        "\n",
        "  return team_ground_win_dict, team_ground_loose_dict, team_ground_win_percent_dict\n",
        "\n"
      ],
      "execution_count": null,
      "outputs": []
    },
    {
      "cell_type": "code",
      "metadata": {
        "id": "uCEu_BXqzgGr"
      },
      "source": [
        "total_team_ground_win_loose_dict = get_total_team_ground_win_loose_dict()\n",
        "\n",
        "win_dict = get_team_ground_analytics(total_team_ground_win_loose_dict)[0]\n",
        "loose_dict = get_team_ground_analytics(total_team_ground_win_loose_dict)[1]\n",
        "win_percent_dict= get_team_ground_analytics(total_team_ground_win_loose_dict)[2]\n",
        "\n",
        "win_df = pd.DataFrame(win_dict)\n",
        "loose_df = pd.DataFrame(loose_dict)\n",
        "win_percent_df = pd.DataFrame(win_percent_dict)\n",
        "\n",
        "win_dict"
      ],
      "execution_count": null,
      "outputs": []
    },
    {
      "cell_type": "markdown",
      "metadata": {
        "id": "pRN7hxcsAyOB"
      },
      "source": [
        "Now we are looking into the entire IPL history and showing the number of matches won by a team in any stadium. For that we placed grounds on x-axis and the number of matches won on y-axis, and assigned different colors to teams. Now just by looking into the size of stack you can tell which ground a team won the maximum number of matches over entire IPL history. We did the same work to understand the number for teams who lost in any ground.\n",
        "\n"
      ]
    },
    {
      "cell_type": "code",
      "metadata": {
        "id": "m0iAUFC--CrH"
      },
      "source": [
        "sns.set()\n",
        "win_df.set_index(win_df.index).plot(kind='bar', stacked=True, xlabel='Ground Name', ylabel='Number of Matches Won')\n",
        "sns.set(rc={'figure.figsize':(25.7,8.27)})\n",
        "\n",
        "loose_df.set_index(win_df.index).plot(kind='bar', stacked=True, xlabel='Ground Name', ylabel='Number of Matches Won')\n"
      ],
      "execution_count": null,
      "outputs": []
    },
    {
      "cell_type": "code",
      "metadata": {
        "id": "tZ9qKYPZecLc"
      },
      "source": [
        "list_of_team_ground_win =[]\n",
        "list_of_team_ground_loose =[]\n",
        "list_of_team_ground_win_percent =[]\n",
        "\n",
        "\n",
        "for index, item in win_df.iteritems():\n",
        "  if win_df[index].dtype != 'object' and win_df[index].dtype != 'object' :\n",
        "    list_of_team_ground_win.append({'team':index, 'ground':win_df[index].idxmax(), 'matches_won':item.max()})\n",
        "\n",
        "\n",
        "for index, item in loose_df.iteritems():\n",
        "  if loose_df[index].dtype != 'object' and loose_df[index].dtype != 'object' :\n",
        "    list_of_team_ground_loose.append({'team':index, 'ground':loose_df[index].idxmax(), 'matches_loose':item.max()})\n",
        "\n",
        "\n",
        "for index, item in win_percent_df.iteritems():\n",
        "  if win_percent_df[index].dtype != 'object' and win_percent_df[index].dtype != 'object' :\n",
        "    list_of_team_ground_win_percent.append({'team':index, 'ground':win_percent_df[index].idxmax(), 'matches_won':item.max()})\n",
        "\n",
        "\n",
        "\n",
        "\n",
        "team_ground_win_df = pd.DataFrame(list_of_team_ground_win).sort_values(by = 'matches_won')\n",
        "team_ground_loose_df = pd.DataFrame(list_of_team_ground_loose).sort_values(by = 'matches_loose')\n",
        "team_ground_win_percent_df = pd.DataFrame(list_of_team_ground_win_percent).sort_values(by = 'matches_won')\n",
        "\n",
        "team_ground_win_df.sort_values(by = 'matches_won')\n",
        "team_ground_loose_df.sort_values(by = 'matches_loose')\n",
        "# team_ground_win_percent_df.sort_values(by = 'matches_won')\n"
      ],
      "execution_count": null,
      "outputs": []
    },
    {
      "cell_type": "markdown",
      "metadata": {
        "id": "fivUIYO7CcL3"
      },
      "source": [
        "Here we are showing that on which ground is lucky for which team. For that we take out the maximum number of matches a team won in which ground and declared that ground as lucky ground for the team over the entire IPL lifespan."
      ]
    },
    {
      "cell_type": "code",
      "metadata": {
        "id": "J9mEI8yDzz6j"
      },
      "source": [
        "sns.set()\n",
        "sns.barplot(data = team_ground_win_df,  x='ground', y = 'matches_won', hue = 'team', dodge = False)\n",
        "plt.xticks(rotation=90)\n",
        "\n"
      ],
      "execution_count": null,
      "outputs": []
    },
    {
      "cell_type": "code",
      "metadata": {
        "id": "WgEngcjRIzof"
      },
      "source": [
        "sns.set()\n",
        "sns.barplot(data = team_ground_loose_df,  x='ground', y = 'matches_loose', hue = 'team', dodge = False)\n",
        "plt.xticks(rotation=90)"
      ],
      "execution_count": null,
      "outputs": []
    },
    {
      "cell_type": "code",
      "metadata": {
        "id": "GBIYqVoD4TR8"
      },
      "source": [
        "\n",
        "# bb = matches_df.groupby(by='venue').agg('count')\n",
        "\n",
        "# sns.barplot(bb )\n",
        "# bb"
      ],
      "execution_count": null,
      "outputs": []
    },
    {
      "cell_type": "code",
      "metadata": {
        "id": "CnPMWOs5qL4o"
      },
      "source": [
        ""
      ],
      "execution_count": null,
      "outputs": []
    },
    {
      "cell_type": "code",
      "metadata": {
        "id": "OoOXfljCnOaD"
      },
      "source": [
        "map_df['count'] = map_df.apply(lambda x: x.index)\n",
        "map_df['st_nm']"
      ],
      "execution_count": null,
      "outputs": []
    },
    {
      "cell_type": "code",
      "metadata": {
        "id": "BTaegnvgrJNX"
      },
      "source": [
        "def get_state( team_name):\n",
        "  team_state_dict = {'Kochi Tuskers Kerala':'Kerala',\n",
        "  'Gujarat Lions\tSaurashtra':'Gujarat',\n",
        "  'Rising Pune Supergiants': 'Maharashtra',\n",
        "  'Chennai Super Kings':'Tamil Nadu',\n",
        "  'Rajasthan Royals':'Rajasthan',\n",
        "  'Mumbai Indians':'Maharashtra',\n",
        "  'Kings XI Punjab':'Punjab',\n",
        "  'Sunrisers Hyderabad':'Telangana',\n",
        "  'Kolkata Knight Riders':'West Bengal',\n",
        "  'Royal Challengers Bangalore':'Karnataka',\n",
        "  'Delhi Capital':'Delhi' }\n",
        "\n",
        "  return team_state_dict[team_name] if team_name in team_state_dict else np.nan\n",
        "\n"
      ],
      "execution_count": null,
      "outputs": []
    },
    {
      "cell_type": "code",
      "metadata": {
        "id": "U0NCiaZittnI"
      },
      "source": [
        "po = {'winner':['Kochi Tuskers Kerala', 'Rising Pune Supergiants'], 'points':[1,2], 'matches_won':[2,4]}\n",
        "podf = pd.DataFrame(po)\n",
        "\n",
        "podf['state_name'] = podf.apply(lambda x: get_state(x['winner']), axis=1)\n",
        "podf"
      ],
      "execution_count": null,
      "outputs": []
    },
    {
      "cell_type": "code",
      "metadata": {
        "id": "GNjJAMwenGBp"
      },
      "source": [
        "\n",
        "def get_india_heat_map(map_df, column_name, ipl_season):\n",
        "  fig, ax = plt.subplots(1, figsize=(13, 13))\n",
        "  ax.axis('on')\n",
        "  ax.set_title(f'Team Performance in {ipl_season}', fontdict={'fontsize': '25', 'fontweight' : '3'})\n",
        "  map_df.plot(column=column_name, cmap='YlOrRd' ,linewidth=0.8, ax=ax, edgecolor='0.8', legend=True)\n",
        "  # plt.colorbar()\n",
        "  ax.set_facecolor('skyblue')\n",
        "  # ax.xaxis.label.set_color('red')"
      ],
      "execution_count": null,
      "outputs": []
    },
    {
      "cell_type": "code",
      "metadata": {
        "id": "xyzz8PXJ1E6D"
      },
      "source": [
        "\n",
        "def get_india_map_visualization(points_df, column_name, ipl_season):\n",
        "  updated_points_df = points_df.copy()\n",
        "  updated_points_df['state_name'] = updated_points_df.apply(lambda x: get_state(x['winner']), axis=1)\n",
        "\n",
        "  merged = map_df.set_index('st_nm').join(updated_points_df.set_index('state_name')).fillna(0)\n",
        "  get_india_heat_map(merged, column_name, ipl_season)"
      ],
      "execution_count": null,
      "outputs": []
    },
    {
      "cell_type": "code",
      "metadata": {
        "id": "V-OPXcJu5tbI"
      },
      "source": [
        "def get_points_table(season):\n",
        " df = matches_df[matches_df['Season']==season].iloc[:-2]\n",
        " df = df.groupby('winner').agg({'id':'count'}).rename(columns={'id':'Matches_won'}).reset_index()\n",
        " points = [val*2 for val in df['Matches_won']]\n",
        " return pd.concat([df,pd.DataFrame({'Points':points})],axis=1)"
      ],
      "execution_count": null,
      "outputs": []
    },
    {
      "cell_type": "code",
      "metadata": {
        "id": "0Jlg-53d5xjq"
      },
      "source": [
        "season = 'IPL-2019'\n",
        "Points_df = get_points_table(season)\n",
        "Points_df.sort_values(by='Points',ascending=False)"
      ],
      "execution_count": null,
      "outputs": []
    },
    {
      "cell_type": "markdown",
      "metadata": {
        "id": "jM77XDZ-DY0H"
      },
      "source": [
        "This heat map is very close to our heart because of two reasons: \n",
        "1. It looks beautifull.\n",
        "2. It took maximum time to implement, specially those small district boundaries took a lot of our time.\n",
        "\n",
        "We have shown a dataframe which shows the points made by teams in an ipl season. Now to visualize  it we became a bit creative and plotted the heat map on Indian map and for that we use geopandas to read shp files which contains the geometry column, this geometry column contains the polygon of longitude and latitude which is used to make the graph. We have a challenge to show only city of few teams whose name doesn't belongs to a state (like chennai super kings) but at the same time we wanted to show the state for other teams, so to achieve that we used two different data files: one for states and other for cities. We took only those cities whose team is playing in IPL and ignored other.\n",
        "\n",
        "Then we plotted the graph that you are seeing below.\n",
        "\n",
        "\n"
      ]
    },
    {
      "cell_type": "code",
      "metadata": {
        "id": "VhcIK2xbyIMC"
      },
      "source": [
        "get_india_map_visualization(Points_df, 'Points', 'IPL-2019')\n"
      ],
      "execution_count": null,
      "outputs": []
    },
    {
      "cell_type": "code",
      "metadata": {
        "id": "s1NQsiyxBpN2"
      },
      "source": [
        "map_df"
      ],
      "execution_count": null,
      "outputs": []
    },
    {
      "cell_type": "code",
      "metadata": {
        "id": "kKCwo_qYB8KT"
      },
      "source": [
        "fig, ax = plt.subplots(1, figsize=(10, 6))\n",
        "ax.axis('off')\n",
        "ax.set_title('State Wise Crime against women in India in 2015', fontdict={'fontsize': '25', 'fontweight' : '3'})\n",
        "map_df.plot(column='count', cmap='YlOrRd', linewidth=0.8, ax=ax, edgecolor='0.8', legend=True)\n"
      ],
      "execution_count": null,
      "outputs": []
    },
    {
      "cell_type": "code",
      "metadata": {
        "id": "5QI_yqWcnvxq"
      },
      "source": [
        ""
      ],
      "execution_count": null,
      "outputs": []
    },
    {
      "cell_type": "code",
      "metadata": {
        "id": "iDU1ON3vEwo3"
      },
      "source": [
        "import plotly.express as px\n",
        "\n",
        "# df = px.data. # iris is a pandas DataFrame\n",
        "fig = px.scatter(season_team_df, x=\"Balls Faced\", y=\"Runs Scored\",color = 'Team',size='Strike Rate',\n",
        "                 title='Runs Scored V/S Balls Faced By Each Player',hover_data=['Batsman'])\n",
        "#fig.set(xlabel='Balls Faced',ylabel = 'Runs Scored',title='BALLS V/S RUNS BY EACH PLAYER')\n",
        "fig.show()"
      ],
      "execution_count": null,
      "outputs": []
    },
    {
      "cell_type": "markdown",
      "metadata": {
        "id": "SShOeZa-QqHx"
      },
      "source": [
        "# **Changes Made By Bhwesh: 04 May**\n",
        "\n",
        "### Fill NaN values of matches_df['city']\n",
        "    matches_df['city'].fillna('Dubai', inplace=True)\n",
        "    matches_df.info()\n",
        "\n",
        "### Incomplete Data:\n",
        "\n",
        "> Match ID: 301, 546, 571, 11340\n",
        "    \n",
        "### Drop incomplete data from matches_df:\n",
        "    drop_index = matches_df[matches_df.winner.isna()].index\n",
        "    matches_df.drop(index=drop_index, inplace=True)\n",
        "    matches_df.shape\n",
        "\n",
        "### Drop incomplete data from deliveries_df:\n",
        "    for index in drop_index:\n",
        "    drop_index_for_deliveries_df = deliveries_df[deliveries_df.match_id == index+1].index \n",
        "    deliveries_df.drop(index=drop_index_for_deliveries_df, inplace =True)\n",
        "    deliveries_df.shape"
      ]
    },
    {
      "cell_type": "code",
      "metadata": {
        "id": "5iiTrd4kG71F"
      },
      "source": [
        "most_runs_avg_sr_df.head(2)"
      ],
      "execution_count": null,
      "outputs": []
    },
    {
      "cell_type": "code",
      "metadata": {
        "id": "J4cUpXlpv1OA"
      },
      "source": [
        "most_runs_avg_sr_df.fillna(0)"
      ],
      "execution_count": null,
      "outputs": []
    }
  ]
}